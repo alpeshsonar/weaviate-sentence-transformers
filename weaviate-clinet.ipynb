{
 "cells": [
  {
   "cell_type": "markdown",
   "metadata": {},
   "source": [
    "docker run -d --name weaviate -p 28080:8080 -e ENABLE_MODULES=text2vec-transformers -e TRANSFORMERS_INFERENCE_API=http://host.docker.internal:7000/encode semitechnologies/weaviate:latest\n"
   ]
  },
  {
   "cell_type": "code",
   "execution_count": null,
   "metadata": {},
   "outputs": [],
   "source": [
    "!pip install weaviate-client\n"
   ]
  },
  {
   "cell_type": "code",
   "execution_count": null,
   "metadata": {},
   "outputs": [],
   "source": [
    "import weaviate\n",
    "\n",
    "client = weaviate.Client(\"http://localhost:28080\")\n",
    "client.schema.delete_class(\"Sale\")\n",
    "schema = {\n",
    "    \"classes\": [\n",
    "        {\n",
    "            \"class\": \"Sale\",\n",
    "            \"vectorizer\": \"text2vec-transformers\",\n",
    "            \"properties\": [\n",
    "                {\n",
    "                    \"name\": \"product_name\",\n",
    "                    \"dataType\": [\"text\"],\n",
    "                    \"description\": \"Name of the product\",\n",
    "                },\n",
    "                {\n",
    "                    \"name\": \"company\",\n",
    "                    \"dataType\": [\"text\"],\n",
    "                    \"description\": \"Name of the company\",\n",
    "                },\n",
    "                {\n",
    "                    \"name\": \"year\",\n",
    "                    \"dataType\": [\"int\"],\n",
    "                    \"description\": \"Year of production\",\n",
    "                },\n",
    "                {\n",
    "                    \"name\": \"price\",\n",
    "                    \"dataType\": [\"number\"],\n",
    "                    \"description\": \"Price of the product\",\n",
    "                },\n",
    "            ],\n",
    "        }\n",
    "    ]\n",
    "}\n",
    "\n",
    "client.schema.delete_all()\n",
    "\n",
    "client.schema.create(schema)"
   ]
  },
  {
   "cell_type": "code",
   "execution_count": null,
   "metadata": {},
   "outputs": [],
   "source": [
    "# Get the current schema\n",
    "current_schema = client.schema.get()\n",
    "\n",
    "# Print the entire schema\n",
    "print(current_schema)\n"
   ]
  },
  {
   "cell_type": "code",
   "execution_count": null,
   "metadata": {},
   "outputs": [],
   "source": [
    "# Sample data for the \"Sales\" class\n",
    "sales_data = [\n",
    "    {\"year\": 2024, \"company\": \"lnt\", \"product_name\": \"watch 10\", \"amount\": 55000},\n",
    "    {\"year\": 2034, \"company\": \"lnt\", \"product_name\": \"iwatch 9\", \"amount\": 15000},\n",
    "    {\n",
    "        \"year\": 2054,\n",
    "        \"company\": \"capgemini\",\n",
    "        \"product_name\": \"iphone|iwatch|apple watch\",\n",
    "        \"amount\": 5000,\n",
    "    },\n",
    "    {\"year\": 2014, \"company\": \"tcs\", \"product_name\": \"red mi - T5\", \"amount\": 52000},\n",
    "    {\n",
    "        \"year\": 2014,\n",
    "        \"company\": \"tcs\",\n",
    "        \"product_name\": \"samsung watch - T5\",\n",
    "        \"amount\": 52000,\n",
    "    },\n",
    "    {\n",
    "        \"year\": 2014,\n",
    "        \"company\": \"jio\",\n",
    "        \"product_name\": \"watch from bolt\",\n",
    "        \"amount\": 52000,\n",
    "    },\n",
    "    {\n",
    "        \"year\": 2014,\n",
    "        \"company\": \"jio\",\n",
    "        \"product_name\": \"Type 2 diabetes\",\n",
    "        \"amount\": 52000,\n",
    "    },\n",
    "    {\n",
    "        \"year\": 2014,\n",
    "        \"company\": \"jio\",\n",
    "        \"product_name\": \"(131)I-MIP 1095\",\n",
    "        \"amount\": 52000,\n",
    "    },\n",
    "]\n",
    "\n",
    "# Insert the data into Weaviate\n",
    "for record in sales_data:\n",
    "    client.data_object.create(data_object=record, class_name=\"Sale\")"
   ]
  },
  {
   "cell_type": "code",
   "execution_count": null,
   "metadata": {},
   "outputs": [],
   "source": [
    "query_result = client.query.get(\n",
    "    class_name=\"Sale\",\n",
    "    properties=[\"product_name\", \"year\", \"amount\", \"company\"]\n",
    ").with_near_text(\n",
    "{\n",
    "    'concepts': [\"list Jio I MIP 1095 products\"],\n",
    "    \"certainty\": 0.7  # Set a higher threshold for more precise matches\n",
    "}\n",
    "\n",
    " ).do()\n",
    "\n",
    "print(query_result)\n",
    "\n",
    "# Display the results\n",
    "for sale in query_result[\"data\"][\"Get\"][\"Sale\"]:\n",
    "    print(f\"Product: {sale['product_name']}\")\n"
   ]
  },
  {
   "cell_type": "markdown",
   "metadata": {},
   "source": []
  }
 ],
 "metadata": {
  "kernelspec": {
   "display_name": ".env",
   "language": "python",
   "name": "python3"
  },
  "language_info": {
   "codemirror_mode": {
    "name": "ipython",
    "version": 3
   },
   "file_extension": ".py",
   "mimetype": "text/x-python",
   "name": "python",
   "nbconvert_exporter": "python",
   "pygments_lexer": "ipython3",
   "version": "3.11.3"
  }
 },
 "nbformat": 4,
 "nbformat_minor": 2
}
